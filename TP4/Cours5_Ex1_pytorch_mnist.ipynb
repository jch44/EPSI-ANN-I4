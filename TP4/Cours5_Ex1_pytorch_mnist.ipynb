{
  "nbformat": 4,
  "nbformat_minor": 0,
  "metadata": {
    "kernelspec": {
      "display_name": "Python 3",
      "language": "python",
      "name": "python3"
    },
    "language_info": {
      "codemirror_mode": {
        "name": "ipython",
        "version": 3
      },
      "file_extension": ".py",
      "mimetype": "text/x-python",
      "name": "python",
      "nbconvert_exporter": "python",
      "pygments_lexer": "ipython3",
      "version": "3.7.3"
    },
    "colab": {
      "name": "pytorch-mnist.ipynb",
      "provenance": [],
      "collapsed_sections": [],
      "toc_visible": true
    },
    "accelerator": "GPU"
  },
  "cells": [
    {
      "cell_type": "markdown",
      "metadata": {
        "id": "-yyDqZ26xRmS"
      },
      "source": [
        "# TP 4\n",
        "Exemple de reconnaissance d'image"
      ]
    },
    {
      "cell_type": "markdown",
      "metadata": {
        "id": "3z8kWOOlxRmW"
      },
      "source": [
        "# Import des librairies et iniitalisation\n"
      ]
    },
    {
      "cell_type": "code",
      "metadata": {
        "id": "lQ3km6ERxRmX"
      },
      "source": [
        "import torch\n",
        "import torch.nn as nn\n",
        "import torch.nn.functional as F\n",
        "import torch.optim as optim\n",
        "from torchsummary import summary\n",
        "\n",
        "import torchvision\n",
        "import matplotlib.pyplot as plt\n",
        "#Affichage barre d'avancement\n",
        "from tqdm.notebook import tqdm\n",
        "import numpy as np"
      ],
      "execution_count": null,
      "outputs": []
    },
    {
      "cell_type": "code",
      "metadata": {
        "id": "6S-gGMakxRmX"
      },
      "source": [
        "#Taille de batch apprentissage et Inférence\n",
        "batch_size_train = 64 # We use a small batch size here for training\n",
        "batch_size_test = 1024 #\n",
        "\n",
        "# Transforme l'image en tensor et normalise les couleurs\n",
        "# Le résultats sera stocké dans le dossier \"processed\"\n",
        "# https://pytorch.org/vision/stable/transforms.html#torchvision.transforms.Normalize\n",
        "\n",
        "image_transform = torchvision.transforms.Compose([\n",
        "                               torchvision.transforms.ToTensor(),\n",
        "                               torchvision.transforms.Normalize(\n",
        "                                 (0.1307,), (0.3081,))\n",
        "                             ])\n",
        "#image datasets (prédéfini dans torchvision)\n",
        "\n",
        "train_dataset = torchvision.datasets.FashionMNIST('dataset/', \n",
        "                                           train=True, \n",
        "                                           download=True,\n",
        "                                           transform=image_transform)\n",
        "test_dataset = torchvision.datasets.FashionMNIST('dataset/', \n",
        "                                          train=False, \n",
        "                                          download=True,\n",
        "                                          transform=image_transform)\n",
        "# dataloaders (parcours intelligent des exemples)\n",
        "train_loader = torch.utils.data.DataLoader(train_dataset,\n",
        "                                           batch_size=batch_size_train, \n",
        "                                           shuffle=True)\n",
        "test_loader = torch.utils.data.DataLoader(test_dataset,\n",
        "                                          batch_size=batch_size_test, \n",
        "                                          shuffle=True)\n",
        "libelle_label = {0:'T-shirt/top',1:'Pantalon',2:'Pull-over',3:'Robe',4:'Manteau',5:'Sandale',6:'Chemise',7:'Espadrilles',8:'Sac',9:'Botte'}"
      ],
      "execution_count": null,
      "outputs": []
    },
    {
      "cell_type": "code",
      "metadata": {
        "id": "qH805g5689m5"
      },
      "source": [
        "print(f\"train : {len(train_dataset)} images.\")\n",
        "print(f\"test : {len(test_dataset)} images.\")"
      ],
      "execution_count": null,
      "outputs": []
    },
    {
      "cell_type": "markdown",
      "metadata": {
        "id": "x2vPUzrQ7dMT"
      },
      "source": [
        "## Affichage d'images"
      ]
    },
    {
      "cell_type": "code",
      "metadata": {
        "id": "X43_F9ulxRmY"
      },
      "source": [
        "_, (example_datas, labels) = next(enumerate(test_loader))\n",
        "print(example_datas.shape, '/',labels.shape)\n",
        "# Affichage du premier exemple du batch\n",
        "sample = example_datas[0][0]\n",
        "plt.imshow(sample, cmap='gray', interpolation='none')\n",
        "print(\"Label: \"+ libelle_label[labels[0].item()])"
      ],
      "execution_count": null,
      "outputs": []
    },
    {
      "cell_type": "markdown",
      "metadata": {
        "id": "htZWDws87kkX"
      },
      "source": [
        "##Création du modèle et de l'optimizer"
      ]
    },
    {
      "cell_type": "code",
      "metadata": {
        "id": "ouQyI0aTxRmZ"
      },
      "source": [
        "class CNN(nn.Module):\n",
        "    def __init__(self):\n",
        "        super(CNN, self).__init__()\n",
        "        #input channel 1, output channel 10\n",
        "        self.conv1 = nn.Conv2d(1, 10, kernel_size=5, stride=1)\n",
        "        #input channel 10, output channel 20\n",
        "        self.conv2 = nn.Conv2d(10, 20, kernel_size=5, stride=1)\n",
        "        #dropout layer\n",
        "        self.conv2_drop = nn.Dropout2d()\n",
        "        #fully connected layer\n",
        "        self.fc1 = nn.Linear(320, 50)\n",
        "        self.fc2 = nn.Linear(50, 10)\n",
        "\n",
        "    def forward(self, x):\n",
        "        x = self.conv1(x)\n",
        "        x = F.max_pool2d(x, 2)\n",
        "        x = F.relu(x)\n",
        "        x = self.conv2(x)\n",
        "        x = self.conv2_drop(x)\n",
        "        x = F.max_pool2d(x, 2)\n",
        "        x = F.relu(x)\n",
        "        x = x.view(-1, 320)\n",
        "        x = self.fc1(x)\n",
        "        x = F.relu(x)\n",
        "        x = F.dropout(x)\n",
        "        x = self.fc2(x)\n",
        "        return F.log_softmax(x,dim=1) # applique log à softmax pour pénaliser d'avantage les erreurs"
      ],
      "execution_count": null,
      "outputs": []
    },
    {
      "cell_type": "code",
      "metadata": {
        "id": "jJ-vU5t8xRmZ"
      },
      "source": [
        "## create model and optimizer\n",
        "learning_rate = 0.01\n",
        "momentum = 0.5\n",
        "# Choix cpu  ou gpu \n",
        "device = \"cpu\"\n",
        "if torch.cuda.is_available():    \n",
        "    device = \"cuda\"\n",
        "    print('%d GPU(s) available' % torch.cuda.device_count())\n",
        "model = CNN().to(device) \n",
        "# D'autres algorithmes de Gradient descent sont possibles\n",
        "optimizer = optim.SGD(model.parameters(), lr=learning_rate, momentum=momentum) \n",
        "summary(model, (1, 28, 28))"
      ],
      "execution_count": null,
      "outputs": []
    },
    {
      "cell_type": "markdown",
      "metadata": {
        "id": "E9CP2bNp723a"
      },
      "source": [
        "## Fonctions d'apprentissage et de test"
      ]
    },
    {
      "cell_type": "code",
      "metadata": {
        "id": "IjU06kd1xRmZ"
      },
      "source": [
        "##Fonction d'apprentissage\n",
        "def train(model, device, train_loader, optimizer, epoch, log_interval=10000):\n",
        "    model.train()\n",
        "    tk0 = tqdm(train_loader, total=int(len(train_loader)))\n",
        "    counter = 0\n",
        "    for batch_idx, (data, target) in enumerate(tk0):\n",
        "        data, target = data.to(device), target.to(device)\n",
        "        optimizer.zero_grad()\n",
        "        output = model(data)\n",
        "        loss = F.nll_loss(output, target)\n",
        "        loss.backward()\n",
        "        optimizer.step()\n",
        "        counter += 1\n",
        "        tk0.set_postfix(loss=(loss.item()*data.size(0) / (counter * train_loader.batch_size)))\n"
      ],
      "execution_count": null,
      "outputs": []
    },
    {
      "cell_type": "code",
      "metadata": {
        "id": "_9Qh2ifh6uQ6"
      },
      "source": [
        "##Fonction de test\n",
        "def test(model, device, test_loader):\n",
        "    model.eval()\n",
        "    test_loss = 0\n",
        "    correct = 0\n",
        "    with torch.no_grad():\n",
        "        for data, target in test_loader:\n",
        "            data, target = data.to(device), target.to(device)\n",
        "            output = model(data)\n",
        "            test_loss += F.nll_loss(output, target, reduction='sum').item() # Fonction de coût\n",
        "            pred = output.argmax(dim=1, keepdim=True) # Prédiction\n",
        "            correct += pred.eq(target.view_as(pred)).sum().item()\n",
        "    test_loss /= len(test_loader.dataset)\n",
        "\n",
        "    print('\\nTest set: coût : {:.4f}, Précision: {}/{} ({:.0f}%)\\n'.format(\n",
        "        test_loss, correct, len(test_loader.dataset),\n",
        "        100. * correct / len(test_loader.dataset)))"
      ],
      "execution_count": null,
      "outputs": []
    },
    {
      "cell_type": "markdown",
      "metadata": {
        "id": "JDiBKaqR7Qrz"
      },
      "source": [
        "##Apprentissage"
      ]
    },
    {
      "cell_type": "code",
      "metadata": {
        "id": "WSsQT2VdxRma"
      },
      "source": [
        "num_epoch = 3\n",
        "for epoch in range(1, num_epoch + 1):\n",
        "        train(model, device, train_loader, optimizer, epoch)\n",
        "        test(model, device, test_loader)"
      ],
      "execution_count": null,
      "outputs": []
    },
    {
      "cell_type": "markdown",
      "metadata": {
        "id": "NBYOY7FaxG8b"
      },
      "source": [
        "## Quelques résultats"
      ]
    },
    {
      "cell_type": "code",
      "metadata": {
        "id": "1w8KYu-UpYjz"
      },
      "source": [
        "for i in range (10):\n",
        "  pos = np.random.randint(1024)\n",
        "  sample = example_datas[pos][0]  \n",
        "  plt.imshow(sample, cmap='gray', interpolation='none')  \n",
        "  output = model(sample.unsqueeze(0).unsqueeze(0).to(device))  \n",
        "  print(\"Label: %s. Prévision: %s.\"%(\n",
        "      libelle_label[labels[pos].item()],\n",
        "      libelle_label[output.argmax(dim=1, keepdim=True).item()]\n",
        "  ))\n",
        "  plt.show()\n",
        "  print(\"  -------------    \")\n",
        "  "
      ],
      "execution_count": null,
      "outputs": []
    }
  ]
}