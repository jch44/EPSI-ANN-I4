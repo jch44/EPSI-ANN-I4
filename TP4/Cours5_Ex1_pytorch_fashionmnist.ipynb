{
  "nbformat": 4,
  "nbformat_minor": 0,
  "metadata": {
    "kernelspec": {
      "name": "python392jvsc74a57bd08a7f431efea175097450e475ba2074c6e83edf516fa688f7dc4e8ab4342121c4",
      "display_name": "Python 3.9.2 64-bit"
    },
    "language_info": {
      "codemirror_mode": {
        "name": "ipython",
        "version": 3
      },
      "file_extension": ".py",
      "mimetype": "text/x-python",
      "name": "python",
      "nbconvert_exporter": "python",
      "pygments_lexer": "ipython3",
      "version": "3.9.2"
    },
    "colab": {
      "name": "pytorch-mnist.ipynb",
      "provenance": [],
      "collapsed_sections": [],
      "toc_visible": true
    },
    "accelerator": "GPU",
    "metadata": {
      "interpreter": {
        "hash": "8a7f431efea175097450e475ba2074c6e83edf516fa688f7dc4e8ab4342121c4"
      }
    }
  },
  "cells": [
    {
      "cell_type": "markdown",
      "metadata": {
        "id": "-yyDqZ26xRmS"
      },
      "source": [
        "# TP 4\n",
        "Exemple de reconnaissance d'image"
      ]
    },
    {
      "cell_type": "markdown",
      "metadata": {
        "id": "3z8kWOOlxRmW"
      },
      "source": [
        "# Import des librairies et initialisation\n"
      ]
    },
    {
      "cell_type": "code",
      "metadata": {
        "id": "lQ3km6ERxRmX"
      },
      "source": [
        "import torch\n",
        "import torch.nn as nn\n",
        "import torch.nn.functional as F\n",
        "import torch.optim as optim\n",
        "from torchsummary import summary\n",
        "\n",
        "import torchvision\n",
        "import matplotlib.pyplot as plt\n",
        "#Affichage barre d'avancement\n",
        "from tqdm.notebook import tqdm\n",
        "import numpy as np"
      ],
      "execution_count": 11,
      "outputs": []
    },
    {
      "cell_type": "code",
      "metadata": {
        "id": "6S-gGMakxRmX"
      },
      "source": [
        "#Taille de batch apprentissage et Inférence\n",
        "batch_size_train = 64 # We use a small batch size here for training\n",
        "batch_size_test = 1024 #\n",
        "\n",
        "# Transforme l'image en tensor et normalise les couleurs\n",
        "# Le résultats sera stocké dans le dossier \"processed\"\n",
        "# https://pytorch.org/vision/stable/transforms.html#torchvision.transforms.Normalize\n",
        "\n",
        "image_transform = torchvision.transforms.Compose([\n",
        "                               torchvision.transforms.ToTensor(),\n",
        "                               torchvision.transforms.Normalize( # input[channel] - mean[channel]) / std[channel]\n",
        "                                 (0.1307,), # moyenne pour la normalisation (1 seul channel car N&B)\n",
        "                                 (0.3081,)  # écart type pour la normalisation (1 seul channel car N&B)\n",
        "                                )\n",
        "                             ])\n",
        "#image datasets (prédéfini dans torchvision)\n",
        "\n",
        "train_dataset = torchvision.datasets.FashionMNIST('dataset/', \n",
        "                                           train=True, \n",
        "                                           download=True,\n",
        "                                           transform=image_transform)\n",
        "test_dataset = torchvision.datasets.FashionMNIST('dataset/', \n",
        "                                          train=False, \n",
        "                                          download=True,\n",
        "                                          transform=image_transform)\n",
        "# dataloaders (parcours intelligent des exemples)\n",
        "train_loader = torch.utils.data.DataLoader(train_dataset,\n",
        "                                           batch_size=batch_size_train, \n",
        "                                           shuffle=True)\n",
        "test_loader = torch.utils.data.DataLoader(test_dataset,\n",
        "                                          batch_size=batch_size_test, \n",
        "                                          shuffle=True)\n",
        "libelle_label = {0:'T-shirt/top',1:'Pantalon',2:'Pull-over',3:'Robe',4:'Manteau',5:'Sandale',6:'Chemise',7:'Espadrilles',8:'Sac',9:'Botte'}"
      ],
      "execution_count": 12,
      "outputs": []
    },
    {
      "cell_type": "code",
      "metadata": {
        "id": "qH805g5689m5"
      },
      "source": [
        "print(f\"train : {len(train_dataset)} images.\")\n",
        "print(f\"test : {len(test_dataset)} images.\")"
      ],
      "execution_count": 13,
      "outputs": [
        {
          "output_type": "stream",
          "name": "stdout",
          "text": [
            "train : 60000 images.\ntest : 10000 images.\n"
          ]
        }
      ]
    },
    {
      "cell_type": "markdown",
      "metadata": {
        "id": "x2vPUzrQ7dMT"
      },
      "source": [
        "## Affichage d'images"
      ]
    },
    {
      "cell_type": "code",
      "metadata": {
        "id": "X43_F9ulxRmY"
      },
      "source": [
        "_, (example_datas, labels) = next(enumerate(test_loader))\n",
        "print(example_datas.shape, '/',labels.shape)\n",
        "# Affichage du premier exemple du batch\n",
        "sample = example_datas[0][0]\n",
        "#denormalisation\n",
        "sample = (sample * 0.3081) + 0.1307\n",
        "fig = plt.figure(figsize=(3,3))\n",
        "plt.axis('off')\n",
        "plt.imshow(sample, cmap='gray', interpolation='bilinear')\n",
        "plt.show()\n",
        "print(\"Label: \"+ libelle_label[labels[0].item()])"
      ],
      "execution_count": 19,
      "outputs": [
        {
          "output_type": "stream",
          "name": "stdout",
          "text": [
            "torch.Size([1024, 1, 28, 28]) / torch.Size([1024])\n"
          ]
        },
        {
          "output_type": "display_data",
          "data": {
            "text/plain": "<Figure size 216x216 with 1 Axes>",
            "image/svg+xml": "<?xml version=\"1.0\" encoding=\"utf-8\" standalone=\"no\"?>\r\n<!DOCTYPE svg PUBLIC \"-//W3C//DTD SVG 1.1//EN\"\r\n  \"http://www.w3.org/Graphics/SVG/1.1/DTD/svg11.dtd\">\r\n<!-- Created with matplotlib (https://matplotlib.org/) -->\r\n<svg height=\"177.48pt\" version=\"1.1\" viewBox=\"0 0 177.48 177.48\" width=\"177.48pt\" xmlns=\"http://www.w3.org/2000/svg\" xmlns:xlink=\"http://www.w3.org/1999/xlink\">\r\n <metadata>\r\n  <rdf:RDF xmlns:cc=\"http://creativecommons.org/ns#\" xmlns:dc=\"http://purl.org/dc/elements/1.1/\" xmlns:rdf=\"http://www.w3.org/1999/02/22-rdf-syntax-ns#\">\r\n   <cc:Work>\r\n    <dc:type rdf:resource=\"http://purl.org/dc/dcmitype/StillImage\"/>\r\n    <dc:date>2021-05-08T17:22:07.408315</dc:date>\r\n    <dc:format>image/svg+xml</dc:format>\r\n    <dc:creator>\r\n     <cc:Agent>\r\n      <dc:title>Matplotlib v3.3.4, https://matplotlib.org/</dc:title>\r\n     </cc:Agent>\r\n    </dc:creator>\r\n   </cc:Work>\r\n  </rdf:RDF>\r\n </metadata>\r\n <defs>\r\n  <style type=\"text/css\">*{stroke-linecap:butt;stroke-linejoin:round;}</style>\r\n </defs>\r\n <g id=\"figure_1\">\r\n  <g id=\"patch_1\">\r\n   <path d=\"M 0 177.48 \r\nL 177.48 177.48 \r\nL 177.48 0 \r\nL 0 0 \r\nz\r\n\" style=\"fill:none;\"/>\r\n  </g>\r\n  <g id=\"axes_1\">\r\n   <g clip-path=\"url(#p6b6d295ff5)\">\r\n    <image height=\"164\" id=\"imageceb6f1e13e\" transform=\"scale(1 -1)translate(0 -164)\" width=\"164\" x=\"7.2\" xlink:href=\"data:image/png;base64,\r\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\" y=\"-6.28\"/>\r\n   </g>\r\n  </g>\r\n </g>\r\n <defs>\r\n  <clipPath id=\"p6b6d295ff5\">\r\n   <rect height=\"163.08\" width=\"163.08\" x=\"7.2\" y=\"7.2\"/>\r\n  </clipPath>\r\n </defs>\r\n</svg>\r\n",
            "image/png": "[encoded data removed]"
          },
          "metadata": {
            "needs_background": "light"
          }
        },
        {
          "output_type": "stream",
          "name": "stdout",
          "text": [
            "Label: T-shirt/top\n"
          ]
        }
      ]
    },
    {
      "cell_type": "markdown",
      "metadata": {
        "id": "htZWDws87kkX"
      },
      "source": [
        "##Création du modèle et de l'optimizer"
      ]
    },
    {
      "cell_type": "code",
      "metadata": {
        "id": "ouQyI0aTxRmZ"
      },
      "source": [
        "class CNN(nn.Module):\n",
        "    def __init__(self):\n",
        "        super(CNN, self).__init__()\n",
        "        # Première couche de convolution\n",
        "        self.conv1 = nn.Conv2d( # Padding par défaut = 0\n",
        "            1,                  # Input channel (1 car N&B)\n",
        "            10,                 # Output channel (nombre de noyau de filtre)\n",
        "            kernel_size=5,      # Taille du noyau de filtre 5 x 5\n",
        "            stride=1            # pas du parcours\n",
        "        )\n",
        "        #pooling 2D\n",
        "        self.pool1 = nn.MaxPool2d(2) # polling par matrice 2x2\n",
        "        # Deuxième couche de convolution\n",
        "        self.conv2 = nn.Conv2d(10, 20, kernel_size=5, stride=1)\n",
        "        #dropout layer\n",
        "        self.conv2_drop = nn.Dropout2d()\n",
        "         #pool 2D\n",
        "        self.pool2 = nn.MaxPool2d(2)\n",
        "        # Couches denses\n",
        "        self.fc1 = nn.Linear(20 * 4 * 4, 50)  # features 1D x taille première couche\n",
        "        self.fc2 = nn.Linear(50, 10)          # Taille première couche * nb classes\n",
        "\n",
        "    def forward(self, x):\n",
        "        x = self.conv1(x)\n",
        "        x = self.pool1(x)\n",
        "        x = F.relu(x)\n",
        "        x = self.conv2(x)\n",
        "        x = self.conv2_drop(x)\n",
        "        x = self.pool1(x)\n",
        "        x = F.relu(x)        \n",
        "        # Garde nombre de batchs et applatit le reste\n",
        "        x = torch.flatten(x, 1)\n",
        "        x = self.fc1(x) \n",
        "        x = F.relu(x)\n",
        "        x = F.dropout(x)\n",
        "        x = self.fc2(x)\n",
        "        # Applique log à softmax pour pénaliser d'avantage les erreurs\n",
        "        # https://pytorch.org/docs/master/generated/torch.nn.LogSoftmax.html?highlight=logsoftmax#torch.nn.LogSoftmax\n",
        "        # Permet de travailler avec la log probability\n",
        "        # https://en.wikipedia.org/wiki/Log_probability\n",
        "        return F.log_softmax(x,dim=1) "
      ],
      "execution_count": 9,
      "outputs": []
    },
    {
      "cell_type": "code",
      "metadata": {
        "id": "jJ-vU5t8xRmZ"
      },
      "source": [
        "## create model and optimizer\n",
        "learning_rate = 0.01\n",
        "momentum = 0.5\n",
        "# Choix cpu  ou gpu \n",
        "device = \"cpu\"\n",
        "if torch.cuda.is_available():    \n",
        "    device = \"cuda\"\n",
        "    print('%d GPU(s) available' % torch.cuda.device_count())\n",
        "model = CNN().to(device) \n",
        "# D'autres algorithmes de Gradient descent sont possibles\n",
        "optimizer = optim.SGD(model.parameters(), lr=learning_rate, momentum=momentum) \n",
        "summary(model, (1, 28, 28))"
      ],
      "execution_count": 10,
      "outputs": [
        {
          "output_type": "stream",
          "name": "stdout",
          "text": [
            "1 GPU(s) available\n----------------------------------------------------------------\n        Layer (type)               Output Shape         Param #\n================================================================\n            Conv2d-1           [-1, 10, 24, 24]             260\n         MaxPool2d-2           [-1, 10, 12, 12]               0\n            Conv2d-3             [-1, 20, 8, 8]           5,020\n         Dropout2d-4             [-1, 20, 8, 8]               0\n         MaxPool2d-5             [-1, 20, 4, 4]               0\n            Linear-6                   [-1, 50]          16,050\n            Linear-7                   [-1, 10]             510\n================================================================\nTotal params: 21,840\nTrainable params: 21,840\nNon-trainable params: 0\n----------------------------------------------------------------\nInput size (MB): 0.00\nForward/backward pass size (MB): 0.08\nParams size (MB): 0.08\nEstimated Total Size (MB): 0.16\n----------------------------------------------------------------\n"
          ]
        }
      ]
    },
    {
      "cell_type": "markdown",
      "metadata": {
        "id": "E9CP2bNp723a"
      },
      "source": [
        "## Fonctions d'apprentissage et de test"
      ]
    },
    {
      "cell_type": "code",
      "metadata": {
        "id": "IjU06kd1xRmZ"
      },
      "source": [
        "##Fonction d'apprentissage\n",
        "def train(model, device, train_loader, optimizer, epoch, log_interval=10000):\n",
        "    model.train()\n",
        "    tk0 = tqdm(train_loader, total=int(len(train_loader)))\n",
        "    counter = 0\n",
        "    for batch_idx, (data, target) in enumerate(tk0):\n",
        "        data, target = data.to(device), target.to(device)\n",
        "        optimizer.zero_grad()\n",
        "        output = model(data)\n",
        "        # Fonction de log vraisemblance\n",
        "        # https://fr.wikipedia.org/wiki/Fonction_de_vraisemblance#Log-vraisemblance\n",
        "        # Se combine avec fonction log_softmax dans la création du modèle\n",
        "        # https://pytorch.org/docs/master/generated/torch.nn.NLLLoss.html#torch.nn.NLLLoss        # \n",
        "        loss = F.nll_loss(output, target)\n",
        "        loss.backward()\n",
        "        optimizer.step()\n",
        "        counter += 1\n",
        "        tk0.set_postfix(loss=(loss.item()*data.size(0) / (counter * train_loader.batch_size)))"
      ],
      "execution_count": null,
      "outputs": []
    },
    {
      "cell_type": "code",
      "metadata": {
        "id": "_9Qh2ifh6uQ6"
      },
      "source": [
        "##Fonction de test\n",
        "def test(model, device, test_loader):\n",
        "    model.eval()\n",
        "    test_loss = 0\n",
        "    correct = 0\n",
        "    with torch.no_grad():\n",
        "        for data, target in test_loader:\n",
        "            data, target = data.to(device), target.to(device)\n",
        "            output = model(data)\n",
        "            test_loss += F.nll_loss(output, target).item() # Fonction de coût (somme des classes)\n",
        "            pred = output.argmax(dim=1, keepdim=True) # Prédiction\n",
        "            # view_as permet de mettre target dans la même forme que pred \n",
        "            correct += pred.eq(target.view_as(pred)).sum().item()\n",
        "    test_loss /= len(test_loader.dataset)\n",
        "\n",
        "    print('\\nTest set: coût : {:.4f}, Précision: {}/{} ({:.0f}%)\\n'.format(\n",
        "        test_loss, correct, len(test_loader.dataset),\n",
        "        100. * correct / len(test_loader.dataset)))"
      ],
      "execution_count": null,
      "outputs": []
    },
    {
      "cell_type": "markdown",
      "metadata": {
        "id": "JDiBKaqR7Qrz"
      },
      "source": [
        "##Apprentissage"
      ]
    },
    {
      "cell_type": "code",
      "metadata": {
        "id": "WSsQT2VdxRma"
      },
      "source": [
        "num_epoch = 3\n",
        "for epoch in range(1, num_epoch + 1):\n",
        "        train(model, device, train_loader, optimizer, epoch)\n",
        "        test(model, device, test_loader)"
      ],
      "execution_count": null,
      "outputs": []
    },
    {
      "cell_type": "markdown",
      "metadata": {
        "id": "NBYOY7FaxG8b"
      },
      "source": [
        "## Quelques résultats"
      ]
    },
    {
      "cell_type": "code",
      "metadata": {
        "id": "1w8KYu-UpYjz"
      },
      "source": [
        "for i in range (10):\n",
        "  pos = np.random.randint(1024)\n",
        "  sample = example_datas[pos][0]    \n",
        "  fig = plt.figure(figsize=(3,3))\n",
        "  plt.axis('off')\n",
        "  plt.imshow(sample, cmap='gray', interpolation='bilinear')\n",
        "  output = model(sample.unsqueeze(0).unsqueeze(0).to(device))  \n",
        "  print(\"Label: %s. Prévision: %s.\"%(\n",
        "      libelle_label[labels[pos].item()],\n",
        "      libelle_label[output.argmax(dim=1, keepdim=True).item()]\n",
        "  ))\n",
        "  plt.show()\n",
        "  print(\"  -------------    \")\n",
        "  "
      ],
      "execution_count": null,
      "outputs": []
    }
  ]
}