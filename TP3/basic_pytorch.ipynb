{
 "nbformat": 4,
 "nbformat_minor": 2,
 "metadata": {
  "language_info": {
   "name": "python",
   "codemirror_mode": {
    "name": "ipython",
    "version": 3
   },
   "version": "3.7.4-final"
  },
  "orig_nbformat": 2,
  "file_extension": ".py",
  "mimetype": "text/x-python",
  "name": "python",
  "npconvert_exporter": "python",
  "pygments_lexer": "ipython3",
  "version": 3,
  "kernelspec": {
   "name": "python3",
   "display_name": "Python 3"
  }
 },
 "cells": [
  {
   "cell_type": "markdown",
   "metadata": {},
   "source": [
    "Import des librairies"
   ],
   "execution_count": null,
   "outputs": []
  },
  {
   "cell_type": "code",
   "execution_count": 1,
   "metadata": {},
   "outputs": [],
   "source": [
    "%matplotlib inline\n",
    "from matplotlib import pyplot as plt\n",
    "import numpy as np\n",
    "import torch\n",
    "torch.set_printoptions(edgeitems=2) #Affiche les 2 premiers / derniers items d'un tensor"
   ]
  },
  {
   "cell_type": "code",
   "execution_count": null,
   "metadata": {},
   "outputs": [],
   "source": [
    "#Tensor Features (11 exemple, avec une seule valeur)\n",
    "t_u = torch.tensor([35.7, 55.9, 58.2, 81.9, 56.3, 48.9, 33.9, 21.8, 48.4, 60.4, 68.4])\n",
    "#Tensor des labels \n",
    "t_c = torch.tensor([0.5, 14.0, 15.0, 28.0, 11.0, 8.0, 3.0, -4.0, 6.0, 13.0, 21.0])\n",
    "\n",
    "t_un = 0.1 * t_u #Normalisation simple des features ()\n",
    "t_un"
   ]
  },
  {
   "cell_type": "code",
   "execution_count": null,
   "metadata": {},
   "outputs": [],
   "source": [
    "# Fonction Hypothèse\n",
    "def model(t_u, w, b):\n",
    "    return w * t_u + b"
   ]
  },
  {
   "cell_type": "code",
   "execution_count": null,
   "metadata": {},
   "outputs": [],
   "source": [
    "#Fonction de coût (MSE)\n",
    "def loss_fn(t_p, t_c):\n",
    "    squared_diffs = (t_p - t_c)**2\n",
    "    return squared_diffs.mean()"
   ]
  },
  {
   "cell_type": "code",
   "execution_count": null,
   "metadata": {},
   "outputs": [],
   "source": [
    "#Initialisation du Tensor des paramètres, en indiquant qu'il faudra calculer les gradients\n",
    "params = torch.tensor([1.0, 0.0], requires_grad=True)\n",
    "# Le gradient des paramètres n'existe pas encore\n",
    "print(params.grad)"
   ]
  },
  {
   "cell_type": "code",
   "execution_count": null,
   "metadata": {},
   "outputs": [],
   "source": [
    "#On calcul la Fonction de coût en lui passant le Tensor des params:\n",
    "loss = loss_fn(model(t_un, *params), t_c)\n",
    "#On lance la gradient Descent (Bakpropgation). Pytorch a retenu les opérations réalisées pour calculer loss\n",
    "loss.backward()\n",
    "#Le gradient des paramètres est maintenant renseigné\n",
    "params.grad"
   ]
  },
  {
   "cell_type": "code",
   "execution_count": null,
   "metadata": {},
   "outputs": [],
   "source": [
    "# !!! Il faut remettre le gradient à 0 entre chaque itération, car les gradients s'accumulent\n",
    "if params.grad is not None:\n",
    "    params.grad.zero_()\n",
    "print(params.grad)"
   ]
  },
  {
   "cell_type": "code",
   "execution_count": null,
   "metadata": {},
   "outputs": [],
   "source": [
    "#Apprentissage\n",
    "n_epochs=5000\n",
    "learning_rate = 1e-2\n",
    "\n",
    "for epoch in range(1, n_epochs + 1):\n",
    "    if params.grad is not None:  # <1>\n",
    "        params.grad.zero_()\n",
    "    \n",
    "    t_p = model(t_un, *params) \n",
    "    loss = loss_fn(t_p, t_c)\n",
    "    loss.backward()\n",
    "    \n",
    "    with torch.no_grad():  # <2>\n",
    "        params -= learning_rate * params.grad\n",
    "\n",
    "    if epoch % 500 == 0:\n",
    "        print('Epoch %d, Loss %f' % (epoch, float(loss)))\n",
    "        \n",
    "print(params)"
   ]
  },
  {
   "cell_type": "code",
   "execution_count": null,
   "metadata": {},
   "outputs": [],
   "source": [
    "t_p = model(t_un, *params)\n",
    "\n",
    "plt.xlabel(\"Temperature (°Fahrenheit)\")\n",
    "plt.ylabel(\"Temperature (°Celsius)\")\n",
    "\n",
    "# Il faut appliquer  detach à tp pour qu'il ne fasse pas partie du calcul du gradient\n",
    "plt.plot(t_u.numpy(), t_p.detach().numpy())\n",
    "plt.plot(t_u.numpy(), t_c.numpy(), 'o')"
   ]
  }
 ]
}