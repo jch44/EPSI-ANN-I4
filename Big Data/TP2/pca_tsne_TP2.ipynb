{
 "cells": [
  {
   "cell_type": "markdown",
   "metadata": {},
   "source": [
    "# TP Reduction des dimensions : PCA et Clustering\n",
    "Récupérer les données sur https://www.kaggle.com/karangadiya/fifa19"
   ]
  },
  {
   "cell_type": "code",
   "execution_count": null,
   "metadata": {},
   "outputs": [],
   "source": [
    "import numpy as np\n",
    "import pandas as pd\n",
    "# Affichage complet des dataframes\n",
    "pd.set_option('display.max_columns',100)\n",
    "pd.set_option('display.max_rows',1000)\n",
    "\n",
    "import itertools\n",
    "import io\n",
    "\n",
    "# Librairie graphique plotly\n",
    "import plotly.graph_objs as go\n"
   ]
  },
  {
   "cell_type": "markdown",
   "metadata": {},
   "source": [
    "## Data Preparation"
   ]
  },
  {
   "cell_type": "code",
   "execution_count": null,
   "metadata": {},
   "outputs": [],
   "source": [
    "df=pd.read_csv(\"data/data.csv\")\n",
    "df.head(10)"
   ]
  },
  {
   "cell_type": "code",
   "execution_count": null,
   "metadata": {},
   "outputs": [],
   "source": [
    "attaquants=['RF', 'ST', 'LW', 'LF', 'RS', 'LS', 'RM', 'LM','RW']\n",
    "milieux=['RCM','LCM','LDM','CAM','CDM','LAM','RDM','CM','RAM','CF']\n",
    "defenseurs=['RCB','CB','LCB','LB','RB','RWB','LWB']\n",
    "gardiens=['GK']\n",
    "\n",
    "def pos2(position):\n",
    "    if position in attaquants:\n",
    "        return 'Attaquant'    \n",
    "    elif position in milieux:\n",
    "        return 'Milieu'    \n",
    "    elif position in defenseurs:\n",
    "        return 'Defenseur'    \n",
    "    elif position in gardiens:\n",
    "        return 'Gardien'    \n",
    "    else:\n",
    "        return 'nan'\n",
    "df[\"Position2\"]=df[\"Position\"].apply(lambda x: pos2(x))\n",
    "df[\"Position2\"].value_counts()"
   ]
  },
  {
   "cell_type": "code",
   "execution_count": null,
   "metadata": {},
   "outputs": [],
   "source": [
    "best_players_per_position=df.iloc[df.groupby(df['Position2'])['Overall'].idxmax()][['Position2','Name','Overall']]\n",
    "best_players_per_position"
   ]
  },
  {
   "cell_type": "markdown",
   "metadata": {},
   "source": [
    "## T-SNE"
   ]
  },
  {
   "cell_type": "code",
   "execution_count": null,
   "metadata": {},
   "outputs": [],
   "source": [
    "n_sne=2000 # Limitation au 2000 premiers joueurs\n",
    "df_sne = df.loc[:n_sne]\n",
    "competences_ratings = ['Crossing', 'Finishing', 'HeadingAccuracy', 'ShortPassing',\n",
    "                  'Volleys', 'Dribbling', 'Curve', 'FKAccuracy', 'LongPassing',\n",
    "                  'BallControl', 'Acceleration', 'SprintSpeed', 'Agility', 'Reactions',\n",
    "                  'Balance', 'ShotPower', 'Jumping', 'Stamina', 'Strength', 'LongShots',\n",
    "                  'Aggression', 'Interceptions', 'Positioning', 'Vision', 'Penalties', \n",
    "                  'Composure', 'Marking', 'StandingTackle', 'SlidingTackle',\n",
    "                  'GKDiving', 'GKHandling', 'GKKicking', 'GKPositioning', 'GKReflexes']\n",
    "\n",
    "# 1.1 Construire Un dataframe des compétences \n",
    "X=df_sne[competences_ratings]\n",
    "X.sample(10)"
   ]
  },
  {
   "cell_type": "code",
   "execution_count": null,
   "metadata": {},
   "outputs": [],
   "source": [
    "#1.2 Exécuter une transformation T_SNE sur les données \n"
   ]
  },
  {
   "cell_type": "code",
   "execution_count": null,
   "metadata": {},
   "outputs": [],
   "source": [
    "#1.3 Créer des filtres booléens par type de poste, puis sur les meilleurs joueurs (Overall au dessus de 90)\n"
   ]
  },
  {
   "cell_type": "code",
   "execution_count": null,
   "metadata": {},
   "outputs": [],
   "source": [
    "palette = ['navy','red','maroon','orange','green','pink']\n",
    "\n",
    "#1.4 Creer 4 nuages de points correspondant aux attaquants, milieux, défenseurs et gradient.\n",
    "\n",
    "#1.5 Ajouter les noms des meilleurs joueurs\n"
   ]
  },
  {
   "cell_type": "markdown",
   "metadata": {},
   "source": [
    "## ACP + Clustering"
   ]
  },
  {
   "cell_type": "code",
   "execution_count": null,
   "metadata": {},
   "outputs": [],
   "source": [
    "n_kmean=18000\n",
    "\n",
    "# Suppression des gardiens de but\n",
    "\n",
    "df_kmean=df.loc[:n_kmean]\n",
    "df_kmean=df_kmean[(df_kmean[\"Position\"]!='GK')&(df_kmean['Overall']>69)]\n",
    "\n",
    "competences_ratings = ['Crossing', 'Finishing', 'HeadingAccuracy', 'ShortPassing', 'Volleys', 'Dribbling', 'Curve',\n",
    "                  'FKAccuracy', 'LongPassing', 'BallControl', 'Acceleration', 'SprintSpeed', 'Agility', 'Reactions',\n",
    "                  'Balance', 'ShotPower', 'Jumping', 'Stamina', 'Strength', 'LongShots', 'Aggression', 'Interceptions',\n",
    "                  'Positioning', 'Vision', 'Penalties', 'Composure', 'Marking', 'StandingTackle', 'SlidingTackle']\n",
    "\n",
    "# Création d'un joueur parfait pour savoir où il se situe\n",
    "\n",
    "JoueurParfaitDict={'Name':'MrParfait','Overall':99}\n",
    "for competence in competences_ratings:\n",
    "    JoueurParfaitDict[competence]=99\n",
    "    \n",
    "df_kmean=df_kmean.append(JoueurParfaitDict,ignore_index=True)\n",
    "\n",
    "df_competences=df_kmean[competences_ratings]\n",
    "X=df_competences\n",
    "X"
   ]
  },
  {
   "cell_type": "code",
   "execution_count": null,
   "metadata": {},
   "outputs": [],
   "source": [
    "#2.1 Créer une division en 5 clusters des joueurs\n"
   ]
  },
  {
   "cell_type": "code",
   "execution_count": null,
   "metadata": {},
   "outputs": [],
   "source": [
    "#2.2 Appliquer une PCA à 2 dimensions sur les joueurs"
   ]
  },
  {
   "cell_type": "code",
   "execution_count": null,
   "metadata": {},
   "outputs": [],
   "source": [
    "#2.3 Afficher les clusters en couleurs sur la représentation PCA en 2D des joueurs. \n",
    "# Ajouter un label pour les meilleurs joueurs (Overall au dessus de 90)\n",
    "\n",
    "filtre_meilleurs = df_kmean[\"Overall\"]>90\n",
    "kmeans_clusters=go.Scatter(x=X_projected[:,0],y=X_projected[:,1],mode='markers',\n",
    "                           marker=dict(\n",
    "                                size=5,\n",
    "                                color=clusters.astype(np.float),\n",
    "                                colorscale='Portland',\n",
    "                                showscale=False\n",
    "                           )\n",
    "                        )\n",
    "acp_meilleurs=go.Scatter(x=X_projected[filtre_meilleurs,0], y=X_projected[filtre_meilleurs,1],name='Meilleurs joueurs',\n",
    "                      text=df_kmean.loc[filtre_meilleurs,'Name'],textfont=dict(family='sans serif',color='black',size=16),\n",
    "                      opacity=0.9,mode='text'\n",
    "                            )\n",
    "data=[kmeans_clusters,acp_meilleurs]\n",
    "\n",
    "layout = go.Layout(title=\"ACP + Clustering \",titlefont=dict(size=40),\n",
    "                   xaxis=dict(title='F1'),\n",
    "                   yaxis=dict(title='F2'),\n",
    "                   autosize=False, width=1000,height=1000)\n",
    "\n",
    "fig = go.Figure(data=data, layout=layout)\n",
    "\n",
    "fig.show()"
   ]
  },
  {
   "cell_type": "markdown",
   "metadata": {},
   "source": [
    "## 3. Qui aurait gagné la Ligue des Champions 2020 ?\n",
    "Rappel des équipes encore en compétition : Paris Saint-Germain, Real Madrid, Bayern Munich, Manchester City, Atalanta Bergame, Juventus FC, Atlético de Madrid,SSC Naples,FC Barcelone,RB Leipzig, Olympique lyonnais, Chelsea FC\n",
    "\n"
   ]
  },
  {
   "cell_type": "code",
   "execution_count": null,
   "metadata": {},
   "outputs": [],
   "source": []
  }
 ],
 "metadata": {
  "kernelspec": {
   "display_name": "Python 3",
   "language": "python",
   "name": "python3"
  },
  "language_info": {
   "codemirror_mode": {
    "name": "ipython",
    "version": 3
   },
   "file_extension": ".py",
   "mimetype": "text/x-python",
   "name": "python",
   "nbconvert_exporter": "python",
   "pygments_lexer": "ipython3",
   "version": "3.7.1"
  }
 },
 "nbformat": 4,
 "nbformat_minor": 2
}