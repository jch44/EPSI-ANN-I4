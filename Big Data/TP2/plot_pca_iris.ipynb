{
 "cells": [
  {
   "cell_type": "markdown",
   "metadata": {},
   "source": [
    "\n",
    "# Exemple ACP\n",
    "\n",
    "\n",
    "Analyse en Composantes Principales et T-NSE appliqué aux dataset des Iris.\n",
    "\n",
    "See `here <https://en.wikipedia.org/wiki/Iris_flower_data_set>`_ for more\n",
    "information on this dataset."
   ]
  },
  {
   "cell_type": "code",
   "execution_count": null,
   "metadata": {},
   "outputs": [],
   "source": [
    "import numpy as np\n",
    "\n",
    "from sklearn import decomposition\n",
    "from sklearn import datasets\n",
    "\n",
    "# np.random.seed(5)\n",
    "\n",
    "iris = datasets.load_iris()\n",
    "X = iris.data\n",
    "y = iris.target\n",
    "\n",
    "pca = decomposition.PCA(n_components=2)\n",
    "pca.fit(X)\n",
    "X = pca.transform(X)\n",
    "print(X)"
   ]
  },
  {
   "cell_type": "code",
   "execution_count": null,
   "metadata": {},
   "outputs": [],
   "source": [
    "filtre_setosa = y==0\n",
    "filtre_versicolor = y==1\n",
    "filtre_virginica = y==2\n",
    "print(filtre_virginica)"
   ]
  },
  {
   "cell_type": "code",
   "execution_count": null,
   "metadata": {},
   "outputs": [],
   "source": [
    "import plotly.graph_objs as go\n",
    "\n",
    "\n",
    "palette = ['navy','red','maroon']\n",
    "\n",
    "acp_setosa =go.Scatter(x=X[filtre_setosa,0],y=X[filtre_setosa,1],name='Setosa',\n",
    "                          text='Setosa',opacity=0.9,\n",
    "                          marker=dict(color=palette[0],size=5),mode='markers'\n",
    "                        )\n",
    "acp_versicolor =go.Scatter(x=X[filtre_versicolor,0],y=X[filtre_versicolor,1],name='Versicolor',\n",
    "                          text='Versicolor',opacity=0.9,\n",
    "                          marker=dict(color=palette[1],size=5),mode='markers'\n",
    "                        )\n",
    "acp_virginica =go.Scatter(x=X[filtre_virginica,0],y=X[filtre_virginica,1],name='Virginica',\n",
    "                          text='Virginica',opacity=0.9,\n",
    "                          marker=dict(color=palette[2],size=5),mode='markers'\n",
    "                        )\n",
    "\n",
    "layout = go.Layout(title=\"PCA - Iris\",titlefont=dict(size=40),autosize=False, width=1000,height=600)\n",
    "\n",
    "data=[acp_setosa,acp_versicolor,acp_virginica]\n",
    "fig = go.Figure(data=data, layout=layout)\n",
    "fig.show()"
   ]
  },
  {
   "cell_type": "markdown",
   "metadata": {},
   "source": [
    "## Exemple T-SNE\n",
    "T-SNE appliqué au dataset des Iris."
   ]
  },
  {
   "cell_type": "code",
   "execution_count": null,
   "metadata": {},
   "outputs": [],
   "source": [
    "from sklearn import manifold\n",
    "tsne = manifold.TSNE(n_components=2, verbose=0,perplexity=100, n_iter=1000)\n",
    "X_tsne = tsne.fit_transform(X)"
   ]
  },
  {
   "cell_type": "code",
   "execution_count": null,
   "metadata": {},
   "outputs": [],
   "source": [
    "import plotly.graph_objs as go\n",
    "\n",
    "palette = ['navy','red','maroon']\n",
    "\n",
    "acp_setosa =go.Scatter(x=X[filtre_setosa,0],y=X_tsne[filtre_setosa,1],name='Setosa',\n",
    "                          text='Setosa',opacity=0.9,\n",
    "                          marker=dict(color=palette[0],size=5),mode='markers'\n",
    "                        )\n",
    "acp_versicolor =go.Scatter(x=X[filtre_versicolor,0],y=X_tsne[filtre_versicolor,1],name='Versicolor',\n",
    "                          text='Versicolor',opacity=0.9,\n",
    "                          marker=dict(color=palette[1],size=5),mode='markers'\n",
    "                        )\n",
    "acp_virginica =go.Scatter(x=X[filtre_virginica,0],y=X_tsne[filtre_virginica,1],name='Virginica',\n",
    "                          text='Virginica',opacity=0.9,\n",
    "                          marker=dict(color=palette[2],size=5),mode='markers'\n",
    "                        )\n",
    "\n",
    "layout = go.Layout(title=\"T-SNE - Iris\",titlefont=dict(size=40),autosize=False, width=1000,height=600)\n",
    "\n",
    "data=[acp_setosa,acp_versicolor,acp_virginica]\n",
    "fig = go.Figure(data=data, layout=layout)\n",
    "fig.show()"
   ]
  }
 ],
 "metadata": {
  "kernelspec": {
   "display_name": "Python 3",
   "language": "python",
   "name": "python3"
  },
  "language_info": {
   "codemirror_mode": {
    "name": "ipython",
    "version": 3
   },
   "file_extension": ".py",
   "mimetype": "text/x-python",
   "name": "python",
   "nbconvert_exporter": "python",
   "pygments_lexer": "ipython3",
   "version": "3.7.1"
  }
 },
 "nbformat": 4,
 "nbformat_minor": 2
}