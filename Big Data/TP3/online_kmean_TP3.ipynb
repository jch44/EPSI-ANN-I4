{
 "cells": [
  {
   "cell_type": "markdown",
   "metadata": {},
   "source": [
    "# Clustering et PCA Online\n",
    "Récupérer les données sur https://www.kaggle.com/karangadiya/fifa19"
   ]
  },
  {
   "cell_type": "code",
   "execution_count": null,
   "metadata": {},
   "outputs": [],
   "source": [
    "import numpy as np\n",
    "import pandas as pd\n",
    "# Affichage complet des dataframes\n",
    "pd.set_option('display.max_columns',100)\n",
    "pd.set_option('display.max_rows',1000)\n",
    "\n",
    "# Librairie graphique plotly\n",
    "from plotly.offline import init_notebook_mode, plot,iplot\n",
    "import plotly.graph_objs as go\n",
    "init_notebook_mode(connected=True)\n",
    "\n",
    "import plotly.tools as tls\n",
    "import plotly.figure_factory as ffb"
   ]
  },
  {
   "cell_type": "markdown",
   "metadata": {},
   "source": [
    "## Data Preparation"
   ]
  },
  {
   "cell_type": "code",
   "execution_count": null,
   "metadata": {},
   "outputs": [],
   "source": [
    "df=pd.read_csv(\"data/data.csv\")\n",
    "df.head(10)"
   ]
  },
  {
   "cell_type": "code",
   "execution_count": null,
   "metadata": {},
   "outputs": [],
   "source": [
    "attaquants=['RF', 'ST', 'LW', 'LF', 'RS', 'LS', 'RM', 'LM','RW']\n",
    "milieux=['RCM','LCM','LDM','CAM','CDM','LAM','RDM','CM','RAM','CF']\n",
    "defenseurs=['RCB','CB','LCB','LB','RB','RWB','LWB']\n",
    "gardiens=['GK']\n",
    "\n",
    "def pos2(position):\n",
    "    if position in attaquants:\n",
    "        return 'Attaquant'    \n",
    "    elif position in milieux:\n",
    "        return 'Milieu'    \n",
    "    elif position in defenseurs:\n",
    "        return 'Defenseur'    \n",
    "    elif position in gardiens:\n",
    "        return 'Gardien'    \n",
    "    else:\n",
    "        return 'nan'\n",
    "df[\"Position2\"]=df[\"Position\"].apply(lambda x: pos2(x))\n",
    "df[\"Position2\"].value_counts()"
   ]
  },
  {
   "cell_type": "markdown",
   "metadata": {},
   "source": [
    "##  Minibatch Clustering + ACP 2D"
   ]
  },
  {
   "cell_type": "markdown",
   "metadata": {},
   "source": [
    "1.1 Sélectionner les 1000 meilleurs joueurs de champs (pas gardien). \n",
    "Réaliser un traitement \"online\" afin de réaliser un clustering et une PCA 2D par lot de 200 joueurs. \n",
    "Pour chaque itération, afficher la projection 2D de tous les joueurs traités."
   ]
  },
  {
   "cell_type": "markdown",
   "metadata": {},
   "source": [
    "##  Minibatch Clustering + ACP 3D"
   ]
  },
  {
   "cell_type": "markdown",
   "metadata": {},
   "source": [
    "1.2 Réaliser un traitement \"online\" afin de réaliser un clustering et une PCA 3D par lot de 200 joueurs. \n",
    "Pour chaque itération, afficher la projection 3D de tous les joueurs traités."
   ]
  }
 ],
 "metadata": {
  "kernelspec": {
   "display_name": "Python 3",
   "language": "python",
   "name": "python3"
  },
  "language_info": {
   "codemirror_mode": {
    "name": "ipython",
    "version": 3
   },
   "file_extension": ".py",
   "mimetype": "text/x-python",
   "name": "python",
   "nbconvert_exporter": "python",
   "pygments_lexer": "ipython3",
   "version": "3.7.1"
  }
 },
 "nbformat": 4,
 "nbformat_minor": 2
}
